{
 "cells": [
  {
   "cell_type": "code",
   "execution_count": 1,
   "metadata": {},
   "outputs": [],
   "source": [
    "import sys\n",
    "import numpy as np"
   ]
  },
  {
   "cell_type": "code",
   "execution_count": 2,
   "metadata": {},
   "outputs": [],
   "source": [
    "def min_edit_distance(source, target):\n",
    "    n = len(source)\n",
    "    m = len(target)\n",
    "    \n",
    "    # Distance matrix D for source and target strings\n",
    "    D = np.zeros((n+1,m+1), dtype=int)\n",
    "    \n",
    "    # Initialize base case values\n",
    "    D[0][0] = 0\n",
    "    \n",
    "    # Create boundary for two base cases\n",
    "    # Base case 1: source substring to empty target\n",
    "    for i in range(1, n+1):\n",
    "        D[i][0] = D[i-1][0]+1\n",
    "    # Base case 2: empty source to target substring\n",
    "    for j in range(1, m+1):\n",
    "        D[0][j] = D[0][j-1]+1\n",
    "    \n",
    "    # Compute distance for every point in D\n",
    "    for i in range(1, n+1):\n",
    "        for j in range(1, m+1):\n",
    "            dist = [D[i-1][j]+1, D[i][j-1]+1, D[i-1][j-1]+sub_cost(source[i-1], target[j-1])]\n",
    "            D[i][j] = dist[np.argmin(dist)]\n",
    " \n",
    "    return D[n][m]\n"
   ]
  },
  {
   "cell_type": "code",
   "execution_count": 3,
   "metadata": {},
   "outputs": [],
   "source": [
    "def sub_cost(s, t):\n",
    "    if s==t:\n",
    "        return 0\n",
    "    else:\n",
    "        return 2"
   ]
  },
  {
   "cell_type": "code",
   "execution_count": 4,
   "metadata": {},
   "outputs": [],
   "source": [
    "def main(source, target):\n",
    "    med = min_edit_distance(source, target)\n",
    "    print(\"Minimum edit distance between %s and %s is %d\" %(source,target,med)) \n"
   ]
  },
  {
   "cell_type": "code",
   "execution_count": null,
   "metadata": {},
   "outputs": [],
   "source": [
    "main(sys.argv[1], sys.argv[2])"
   ]
  }
 ],
 "metadata": {
  "kernelspec": {
   "display_name": "Python 3",
   "language": "python",
   "name": "python3"
  },
  "language_info": {
   "codemirror_mode": {
    "name": "ipython",
    "version": 3
   },
   "file_extension": ".py",
   "mimetype": "text/x-python",
   "name": "python",
   "nbconvert_exporter": "python",
   "pygments_lexer": "ipython3",
   "version": "3.7.0"
  }
 },
 "nbformat": 4,
 "nbformat_minor": 2
}
