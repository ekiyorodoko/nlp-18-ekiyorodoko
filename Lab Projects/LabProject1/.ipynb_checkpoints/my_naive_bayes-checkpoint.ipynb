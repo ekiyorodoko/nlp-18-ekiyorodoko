{
 "cells": [
  {
   "cell_type": "code",
   "execution_count": 3,
   "metadata": {},
   "outputs": [],
   "source": [
    "import math\n",
    "import numpy as np\n",
    "import string\n",
    "import nbc_pred as pred\n",
    "import nbc_train as train\n",
    "import data_wrangler as dw"
   ]
  },
  {
   "cell_type": "code",
   "execution_count": 4,
   "metadata": {},
   "outputs": [],
   "source": [
    "paths = [\"dataset/imdb_labelled.txt\",\"dataset/yelp_labelled.txt\", \"dataset/amazon_cells_labelled.txt\" ]"
   ]
  },
  {
   "cell_type": "code",
   "execution_count": 5,
   "metadata": {},
   "outputs": [],
   "source": [
    "dataset = dw.pre_process(paths)"
   ]
  },
  {
   "cell_type": "code",
   "execution_count": 6,
   "metadata": {},
   "outputs": [],
   "source": [
    "# Select documents of reviews from dataset\n",
    "np_dataset = np.array(dataset).T\n",
    "doc = np_dataset[0]"
   ]
  },
  {
   "cell_type": "code",
   "execution_count": 7,
   "metadata": {},
   "outputs": [],
   "source": [
    "# Seperate classes from the dataset\n",
    "classes = np_dataset[1]\n",
    "unique, counts = np.unique(classes, return_counts = True)"
   ]
  },
  {
   "cell_type": "code",
   "execution_count": 8,
   "metadata": {},
   "outputs": [],
   "source": [
    "# class categories\n",
    "C = dict(zip(unique, counts))"
   ]
  },
  {
   "cell_type": "code",
   "execution_count": 9,
   "metadata": {},
   "outputs": [],
   "source": [
    "# convert corpus to a string of words and then a list of words\n",
    "BoW = \" \".join(doc).split(\" \")"
   ]
  },
  {
   "cell_type": "code",
   "execution_count": 10,
   "metadata": {},
   "outputs": [],
   "source": [
    "# remove empty strings in bag of words\n",
    "if '' in BoW:\n",
    "    BoW.remove('')"
   ]
  },
  {
   "cell_type": "code",
   "execution_count": 11,
   "metadata": {},
   "outputs": [],
   "source": [
    "# Make list of words unique\n",
    "u_words, count = np.unique(BoW, return_counts = True)\n",
    "V = dict(zip(u_words, count))"
   ]
  },
  {
   "cell_type": "code",
   "execution_count": 12,
   "metadata": {},
   "outputs": [],
   "source": [
    "def main():\n",
    "    nb_train = train.train_nb(C,V, doc, dataset)\n",
    "    filename = input(\"Please enter the path to your file:\\n\")\n",
    "    try:\n",
    "        nb_test = pred.test(filename, nb_train[0], nb_train[1], C, V)\n",
    "    except FileNotFoundError:\n",
    "        print(\"The file does not exist\")\n",
    "        exit()\n",
    "    fw = open(\"results_file.txt\", \"w\")\n",
    "    fw.write(\"\\n\".join(nb_test))\n",
    "    fw.close()"
   ]
  },
  {
   "cell_type": "code",
   "execution_count": null,
   "metadata": {},
   "outputs": [],
   "source": [
    "main()"
   ]
  }
 ],
 "metadata": {
  "kernelspec": {
   "display_name": "Python 3",
   "language": "python",
   "name": "python3"
  },
  "language_info": {
   "codemirror_mode": {
    "name": "ipython",
    "version": 3
   },
   "file_extension": ".py",
   "mimetype": "text/x-python",
   "name": "python",
   "nbconvert_exporter": "python",
   "pygments_lexer": "ipython3",
   "version": "3.7.0"
  }
 },
 "nbformat": 4,
 "nbformat_minor": 2
}
